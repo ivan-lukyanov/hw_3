{
 "cells": [
  {
   "cell_type": "markdown",
   "metadata": {},
   "source": [
    "### Пункт 1.  \n",
    "Пользователь по команде \"p\" может узнать владельца документа по его номеру"
   ]
  },
  {
   "cell_type": "code",
   "execution_count": 1,
   "metadata": {},
   "outputs": [],
   "source": [
    "documents = [\n",
    " {'type': 'passport', 'number': '2207 876234', 'name': 'Василий Гупкин'},\n",
    " {'type': 'invoice', 'number': '11-2', 'name': 'Геннадий Покемонов'},\n",
    " {'type': 'insurance', 'number': '10006', 'name': 'Аристарх Павлов'}\n",
    "]"
   ]
  },
  {
   "cell_type": "code",
   "execution_count": 2,
   "metadata": {},
   "outputs": [],
   "source": [
    "directories = {\n",
    " '1': ['2207 876234', '11-2'],\n",
    " '2': ['10006'],\n",
    " '3': []\n",
    "}"
   ]
  },
  {
   "cell_type": "code",
   "execution_count": 3,
   "metadata": {},
   "outputs": [],
   "source": [
    "def check_data_owner():\n",
    "    enter = input('Введите номер документа:')\n",
    "    for i in documents:\n",
    "        if enter == i['number']:\n",
    "            return f\"Владелец документа:{i['name']}\"\n",
    "            break\n",
    "    else:\n",
    "        return('Документ не найден в базе')"
   ]
  },
  {
   "cell_type": "code",
   "execution_count": 4,
   "metadata": {},
   "outputs": [],
   "source": [
    "def main_serch_owner():\n",
    "    while True:\n",
    "        user_input = input('Введите команду \"p\" для проверки данных; \"e\" для выхода:')\n",
    "        if user_input == 'p':\n",
    "            print(check_data_owner())  \n",
    "        elif user_input == 'e':\n",
    "            print('До свидания')\n",
    "            break\n",
    "        elif user_input != 'p':\n",
    "            print('Вевдена неверная команда')"
   ]
  },
  {
   "cell_type": "code",
   "execution_count": 8,
   "metadata": {},
   "outputs": [
    {
     "name": "stdout",
     "output_type": "stream",
     "text": [
      "Введите команду \"p\" для проверки данных; \"e\" для выхода:10006\n",
      "Вевдена неверная команда\n",
      "Введите команду \"p\" для проверки данных; \"e\" для выхода:p\n",
      "Введите номер документа:10006\n",
      "Владелец документа:Аристарх Павлов\n",
      "Введите команду \"p\" для проверки данных; \"e\" для выхода:123\n",
      "Вевдена неверная команда\n",
      "Введите команду \"p\" для проверки данных; \"e\" для выхода:p\n",
      "Введите номер документа:123\n",
      "Документ не найден в базе\n",
      "Введите команду \"p\" для проверки данных; \"e\" для выхода:e\n",
      "До свидания\n"
     ]
    }
   ],
   "source": [
    "main_serch_owner()"
   ]
  },
  {
   "cell_type": "markdown",
   "metadata": {},
   "source": [
    "----"
   ]
  },
  {
   "cell_type": "markdown",
   "metadata": {},
   "source": [
    "### Пункт 2.   \n",
    "Пользователь по команде \"s\" может по номеру документа узнать на какой полке он хранится\n"
   ]
  },
  {
   "cell_type": "code",
   "execution_count": 9,
   "metadata": {},
   "outputs": [],
   "source": [
    "documents = [\n",
    " {'type': 'passport', 'number': '2207 876234', 'name': 'Василий Гупкин'},\n",
    " {'type': 'invoice', 'number': '11-2', 'name': 'Геннадий Покемонов'},\n",
    " {'type': 'insurance', 'number': '10006', 'name': 'Аристарх Павлов'}\n",
    "]"
   ]
  },
  {
   "cell_type": "code",
   "execution_count": 10,
   "metadata": {},
   "outputs": [],
   "source": [
    "directories = {\n",
    " '1': ['2207 876234', '11-2'],\n",
    " '2': ['10006'],\n",
    " '3': []\n",
    "}"
   ]
  },
  {
   "cell_type": "code",
   "execution_count": 11,
   "metadata": {},
   "outputs": [],
   "source": [
    "def chec_date_rack():\n",
    "    user_input = input('Введите номер документа:')\n",
    "    for k, v in directories.items():\n",
    "        if user_input in v:\n",
    "            return f'Документ хранится на полке: {k}'\n",
    "            break\n",
    "    else:\n",
    "        return'Документ не найден в базе'"
   ]
  },
  {
   "cell_type": "code",
   "execution_count": 12,
   "metadata": {},
   "outputs": [],
   "source": [
    "def main_search_rack():\n",
    "    while True:\n",
    "        user_input = input('Ведите команду \"s\" для проверки данных; \"e\" для выхода:')\n",
    "        if user_input == 's':\n",
    "            print(chec_date_rack())\n",
    "        elif user_input == 'e':\n",
    "            print('Вы выполнили выход')\n",
    "            break"
   ]
  },
  {
   "cell_type": "code",
   "execution_count": 13,
   "metadata": {},
   "outputs": [
    {
     "name": "stdout",
     "output_type": "stream",
     "text": [
      "Ведите команду \"s\" для проверки данных; \"e\" для выхода:s\n",
      "Введите номер документа:10006\n",
      "Документ хранится на полке: 2\n",
      "Ведите команду \"s\" для проверки данных; \"e\" для выхода:s\n",
      "Введите номер документа:123\n",
      "Документ не найден в базе\n",
      "Ведите команду \"s\" для проверки данных; \"e\" для выхода:r\n",
      "Ведите команду \"s\" для проверки данных; \"e\" для выхода:e\n",
      "Вы выполнили выход\n"
     ]
    }
   ],
   "source": [
    "main_search_rack()"
   ]
  },
  {
   "cell_type": "markdown",
   "metadata": {},
   "source": [
    "---"
   ]
  },
  {
   "cell_type": "markdown",
   "metadata": {},
   "source": [
    "### Пункт 3.    \n",
    "Пользователь по команде \"l\" может увидеть полную информацию по всем документам"
   ]
  },
  {
   "cell_type": "code",
   "execution_count": 14,
   "metadata": {},
   "outputs": [],
   "source": [
    "documents = [\n",
    " {'type': 'passport', 'number': '2207 876234', 'name': 'Василий Гупкин'},\n",
    " {'type': 'invoice', 'number': '11-2', 'name': 'Геннадий Покемонов'},\n",
    " {'type': 'insurance', 'number': '10006', 'name': 'Аристарх Павлов'}\n",
    "]"
   ]
  },
  {
   "cell_type": "code",
   "execution_count": 15,
   "metadata": {},
   "outputs": [],
   "source": [
    "directories = {\n",
    " '1': ['2207 876234', '11-2'],\n",
    " '2': ['10006'],\n",
    " '3': []\n",
    "}"
   ]
  },
  {
   "cell_type": "code",
   "execution_count": 16,
   "metadata": {},
   "outputs": [],
   "source": [
    "def check_total_info():\n",
    "    for data in documents:\n",
    "        for direct, numb in directories.items():\n",
    "            if data['number'] in numb:\n",
    "                print(f\"№:{data['number']}, тип: {data['type']}, владелец {data['name']}, полка хранения:{direct}\")"
   ]
  },
  {
   "cell_type": "code",
   "execution_count": 17,
   "metadata": {},
   "outputs": [],
   "source": [
    "def main_total_info():\n",
    "    while True:\n",
    "        input_user = input('введите \"/\"')\n",
    "        if input_user == '/':\n",
    "            print(check_total_info())\n",
    "            break"
   ]
  },
  {
   "cell_type": "code",
   "execution_count": 19,
   "metadata": {},
   "outputs": [
    {
     "name": "stdout",
     "output_type": "stream",
     "text": [
      "введите \"/\"o\n",
      "введите \"/\"/\n",
      "№:2207 876234, тип: passport, владелец Василий Гупкин, полка хранения:1\n",
      "№:11-2, тип: invoice, владелец Геннадий Покемонов, полка хранения:1\n",
      "№:10006, тип: insurance, владелец Аристарх Павлов, полка хранения:2\n",
      "None\n"
     ]
    }
   ],
   "source": [
    "main_total_info()"
   ]
  },
  {
   "cell_type": "markdown",
   "metadata": {},
   "source": [
    "---"
   ]
  },
  {
   "cell_type": "markdown",
   "metadata": {},
   "source": [
    "### Пункт 4.  \n",
    "Пользователь по команде \"ads\" может добавить новую полку"
   ]
  },
  {
   "cell_type": "code",
   "execution_count": 7,
   "metadata": {},
   "outputs": [],
   "source": [
    "documents = [\n",
    " {'type': 'passport', 'number': '2207 876234', 'name': 'Василий Гупкин'},\n",
    " {'type': 'invoice', 'number': '11-2', 'name': 'Геннадий Покемонов'},\n",
    " {'type': 'insurance', 'number': '10006', 'name': 'Аристарх Павлов'}\n",
    "]"
   ]
  },
  {
   "cell_type": "code",
   "execution_count": 48,
   "metadata": {},
   "outputs": [],
   "source": [
    "directories = {\n",
    " '1': ['2207 876234', '11-2'],\n",
    " '2': ['10006'],\n",
    " '3': []\n",
    "}"
   ]
  },
  {
   "cell_type": "code",
   "execution_count": 41,
   "metadata": {},
   "outputs": [],
   "source": [
    "def ads_direct():\n",
    "    user_input = input('Введите номер полки: ')\n",
    "    for direct, value in directories.items():\n",
    "        if user_input == direct:\n",
    "            return f'Такая полка уже существует. Текущий перечень полок: {\",\".join(list(directories.keys()))}'\n",
    "            break\n",
    "        else:\n",
    "            directories[user_input] = []\n",
    "            return f'Полка добавлена. Текущий перечень полок: {\",\".join(list(directories.keys()))}'"
   ]
  },
  {
   "cell_type": "code",
   "execution_count": 42,
   "metadata": {},
   "outputs": [],
   "source": [
    "def main_ads_direct():\n",
    "    while True:\n",
    "        user_input = input('Введите команду: \"ads\", для выхода: \"e\"')\n",
    "        if user_input == 'ads':\n",
    "            print(ads_direct())\n",
    "        elif user_input == 'e':\n",
    "            print('Вы выполнили выход')\n",
    "            break"
   ]
  },
  {
   "cell_type": "code",
   "execution_count": 50,
   "metadata": {},
   "outputs": [
    {
     "name": "stdout",
     "output_type": "stream",
     "text": [
      "Введите команду: \"ads\", для выхода: \"e\"ads\n",
      "Введите номер полки: 9\n",
      "Полка добавлена. Текущий перечень полок: 1,2,3,9\n",
      "Введите команду: \"ads\", для выхода: \"e\"e\n",
      "Вы выполнили выход\n"
     ]
    }
   ],
   "source": [
    "main_ads_direct()"
   ]
  },
  {
   "cell_type": "markdown",
   "metadata": {},
   "source": [
    "---"
   ]
  },
  {
   "cell_type": "markdown",
   "metadata": {},
   "source": [
    "### Пункт 5.   \n",
    "Пользователь по команде “ds” может удалить существующую полку из данных (только если она пустая)"
   ]
  },
  {
   "cell_type": "code",
   "execution_count": 61,
   "metadata": {},
   "outputs": [],
   "source": [
    "documents = [\n",
    " {'type': 'passport', 'number': '2207 876234', 'name': 'Василий Гупкин'},\n",
    " {'type': 'invoice', 'number': '11-2', 'name': 'Геннадий Покемонов'},\n",
    " {'type': 'insurance', 'number': '10006', 'name': 'Аристарх Павлов'}\n",
    "]"
   ]
  },
  {
   "cell_type": "code",
   "execution_count": 130,
   "metadata": {},
   "outputs": [],
   "source": [
    "directories = {\n",
    " '1': ['2207 876234', '11-2'],\n",
    " '2': ['10006'],\n",
    " '3': []\n",
    "}"
   ]
  },
  {
   "cell_type": "code",
   "execution_count": 126,
   "metadata": {},
   "outputs": [],
   "source": [
    "def del_direct():\n",
    "    user_input = input('Введите номер полки: ')\n",
    "    for k, i in list(directories.items()):\n",
    "        if k == user_input:\n",
    "            if i == []:\n",
    "                del(directories[k])\n",
    "                return f'Полка удалена. Текущий перечень полок: {\",\".join(list(directories.keys()))}'\n",
    "            elif i != []:\n",
    "                return f'На полке есть документа, удалите их перед удалением полки. Текущий перечень полок: {\",\".join(list(directories.keys()))}'\n",
    "                break\n",
    "    if k != user_input:\n",
    "            return f'Такой полки не существует. Текущий перечень полок: {\",\".join(list(directories.keys()))}'"
   ]
  },
  {
   "cell_type": "code",
   "execution_count": 127,
   "metadata": {},
   "outputs": [],
   "source": [
    "def main_del_direct():\n",
    "    while True:\n",
    "        input_user = input('Введите команду: \"ds\", для выхода: \"e\"')\n",
    "        if input_user == \"ds\":\n",
    "            print(del_direct())\n",
    "        elif input_user == \"e\":\n",
    "            print('Вы выполнили выход')\n",
    "            break"
   ]
  },
  {
   "cell_type": "code",
   "execution_count": 128,
   "metadata": {},
   "outputs": [
    {
     "name": "stdout",
     "output_type": "stream",
     "text": [
      "Введите команду: \"ds\", для выхода: \"e\"ds1\n",
      "Введите команду: \"ds\", для выхода: \"e\"ds\n",
      "Введите номер полки: 2\n",
      "На полке есть документа, удалите их перед удалением полки. Текущий перечень полок: 1,2,3\n",
      "Введите команду: \"ds\", для выхода: \"e\"ds\n",
      "Введите номер полки: 3\n",
      "Полка удалена. Текущий перечень полок: 1,2\n",
      "Введите команду: \"ds\", для выхода: \"e\"e\n",
      "Вы выполнили выход\n"
     ]
    }
   ],
   "source": [
    "main_del_direct()"
   ]
  },
  {
   "cell_type": "code",
   "execution_count": null,
   "metadata": {},
   "outputs": [],
   "source": []
  }
 ],
 "metadata": {
  "kernelspec": {
   "display_name": "Python 3",
   "language": "python",
   "name": "python3"
  },
  "language_info": {
   "codemirror_mode": {
    "name": "ipython",
    "version": 3
   },
   "file_extension": ".py",
   "mimetype": "text/x-python",
   "name": "python",
   "nbconvert_exporter": "python",
   "pygments_lexer": "ipython3",
   "version": "3.8.5"
  }
 },
 "nbformat": 4,
 "nbformat_minor": 4
}
